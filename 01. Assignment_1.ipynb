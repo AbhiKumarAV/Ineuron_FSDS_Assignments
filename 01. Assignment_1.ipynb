{
 "cells": [
  {
   "cell_type": "raw",
   "id": "81bfae33",
   "metadata": {},
   "source": [
    "# 1. In the below elements which of them are values or an expression? eg:- values can be integer or string and expressions will be mathematical operators.\n",
    "*\n",
    "'hello'\n",
    "-87.8\n",
    "-\n",
    "/\n",
    "+\n",
    "6"
   ]
  },
  {
   "cell_type": "raw",
   "id": "3dff979c",
   "metadata": {},
   "source": [
    "*,-,/,+ are expressions which represent a value where as -87.8,6 are the values"
   ]
  },
  {
   "cell_type": "markdown",
   "id": "c2b61180",
   "metadata": {},
   "source": [
    "# "
   ]
  },
  {
   "cell_type": "raw",
   "id": "0b7f8007",
   "metadata": {},
   "source": [
    "# 2. What is the difference between string and variable?"
   ]
  },
  {
   "cell_type": "raw",
   "id": "4895a921",
   "metadata": {},
   "source": [
    "- variables are used to store a data.\n",
    "- string is a group of characters enclosed within a quotes and stored in a variable as a datatype.\n"
   ]
  },
  {
   "cell_type": "markdown",
   "id": "19fc0952",
   "metadata": {},
   "source": [
    "# "
   ]
  },
  {
   "cell_type": "raw",
   "id": "805ef525",
   "metadata": {},
   "source": [
    "3. Describe three different data types."
   ]
  },
  {
   "cell_type": "raw",
   "id": "ac56e76e",
   "metadata": {},
   "source": [
    "int    - whole number is a data of integer type\n",
    "float  - Number with a decimal point is a data of float type\n",
    "string - ordered sequence of characters enclosed within quotes is a data of string type\n"
   ]
  },
  {
   "cell_type": "markdown",
   "id": "e5df0685",
   "metadata": {},
   "source": [
    "# "
   ]
  },
  {
   "cell_type": "raw",
   "id": "d480e16e",
   "metadata": {},
   "source": [
    "4. What is an expression made up of? What do all expressions do?"
   ]
  },
  {
   "cell_type": "code",
   "execution_count": null,
   "id": "aede5e51",
   "metadata": {},
   "outputs": [],
   "source": [
    "Expression is made up of one or more operators and operands(numbers or variables) which are interpreted to produce a value."
   ]
  },
  {
   "cell_type": "markdown",
   "id": "7d795e2a",
   "metadata": {},
   "source": [
    "# "
   ]
  },
  {
   "cell_type": "raw",
   "id": "b25260c5",
   "metadata": {},
   "source": [
    "5. This assignment statements, like spam = 10. What is the difference between an\n",
    "expression and a statement?"
   ]
  },
  {
   "cell_type": "raw",
   "id": "057d5172",
   "metadata": {},
   "source": [
    "Expression is made up of values, containers, and mathematical operators (operands) and the statement is just like a command that a python interpreter executes like print."
   ]
  },
  {
   "cell_type": "markdown",
   "id": "7c5d49a2",
   "metadata": {},
   "source": [
    "# "
   ]
  },
  {
   "cell_type": "raw",
   "id": "0df00db5",
   "metadata": {},
   "source": [
    "6. After running the following code, what does the variable bacon contain?\n",
    "bacon = 22\n",
    "bacon + 1\n",
    "\n",
    "OUTPUT : 23"
   ]
  },
  {
   "cell_type": "markdown",
   "id": "a8edcd60",
   "metadata": {},
   "source": [
    "# "
   ]
  },
  {
   "cell_type": "raw",
   "id": "ad0f78f6",
   "metadata": {},
   "source": [
    "7. What should the values of the following two terms be?\n",
    "'spam'+'spamspam'\n",
    "'spam'*3"
   ]
  },
  {
   "cell_type": "code",
   "execution_count": null,
   "id": "5626023e",
   "metadata": {},
   "outputs": [],
   "source": [
    "OUTPUT : spamspamspam\n",
    "         spamspamspam"
   ]
  },
  {
   "cell_type": "markdown",
   "id": "cf523d0e",
   "metadata": {},
   "source": [
    "# "
   ]
  },
  {
   "cell_type": "raw",
   "id": "4ccdef86",
   "metadata": {},
   "source": [
    "# 8. Why is eggs a valid variable name while 100 is invalid?\n",
    "    \n",
    "Ans: because we can't start giving variable an integer name. if we, we should begin with, a string-like alphabet name then integer. e100 or eggs100 is valid"
   ]
  },
  {
   "cell_type": "markdown",
   "id": "5f6b4f9e",
   "metadata": {},
   "source": [
    "# "
   ]
  },
  {
   "cell_type": "raw",
   "id": "475b615d",
   "metadata": {},
   "source": [
    "9. What three functions can be used to get the integer, floating-point number, or string\n",
    "version of a value?"
   ]
  },
  {
   "cell_type": "raw",
   "id": "1896b3c7",
   "metadata": {},
   "source": [
    "int(),float(),str()"
   ]
  },
  {
   "cell_type": "markdown",
   "id": "19879fad",
   "metadata": {},
   "source": [
    "# "
   ]
  },
  {
   "cell_type": "raw",
   "id": "42a96e7b",
   "metadata": {},
   "source": [
    "10. Why does this expression cause an error? How can you fix it?\n",
    "'I have eaten'+99+'burritos'"
   ]
  },
  {
   "cell_type": "raw",
   "id": "4166905e",
   "metadata": {},
   "source": [
    "sol:  because 99 is an integer it cannot be concatenated with strings, if we have to concatenate it we need to do typecasting."
   ]
  }
 ],
 "metadata": {
  "kernelspec": {
   "display_name": "Python 3 (ipykernel)",
   "language": "python",
   "name": "python3"
  },
  "language_info": {
   "codemirror_mode": {
    "name": "ipython",
    "version": 3
   },
   "file_extension": ".py",
   "mimetype": "text/x-python",
   "name": "python",
   "nbconvert_exporter": "python",
   "pygments_lexer": "ipython3",
   "version": "3.9.7"
  }
 },
 "nbformat": 4,
 "nbformat_minor": 5
}
