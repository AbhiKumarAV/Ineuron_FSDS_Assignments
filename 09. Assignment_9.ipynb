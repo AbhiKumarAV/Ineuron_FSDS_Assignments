{
 "cells": [
  {
   "cell_type": "markdown",
   "id": "d9cbbe9e",
   "metadata": {},
   "source": [
    "# Python_Assignment_9 Solution\n"
   ]
  },
  {
   "cell_type": "markdown",
   "id": "a2730163",
   "metadata": {},
   "source": [
    "# 1.To what does a relative path refer ?"
   ]
  },
  {
   "cell_type": "markdown",
   "id": "b5d4125c",
   "metadata": {},
   "source": [
    "Ans: The relative path is the path to some file with respect to your current working directory (PWD).\n",
    "    \n",
    "For example: if Absolute path to a file called stuff.txt is: C:/users/admin/docs/stuff.txt If my PWD is C:/users/admin/ , then the relative path to stuff.txt would be: docs/stuff.txt\n",
    "\n",
    "Note: PWD + relative path = absolute path"
   ]
  },
  {
   "cell_type": "markdown",
   "id": "5614202b",
   "metadata": {},
   "source": [
    "# 2.Where does an absolute path start with your Operating System ?"
   ]
  },
  {
   "cell_type": "markdown",
   "id": "1e1fbdf1",
   "metadata": {},
   "source": [
    "absolute path = pwd + relative path.\n",
    "\n",
    "absolute path always starts with root directory"
   ]
  },
  {
   "cell_type": "markdown",
   "id": "73ede5b5",
   "metadata": {},
   "source": [
    "In Linux based systems the absolute path starts with /. Where as in Windows based systems absolute path starts with root directory(for example C:)"
   ]
  },
  {
   "cell_type": "markdown",
   "id": "e7f77d0e",
   "metadata": {},
   "source": [
    "# 3.What does the functions os.getcwd() and os.chdir() do ?"
   ]
  },
  {
   "cell_type": "markdown",
   "id": "3003950c",
   "metadata": {},
   "source": [
    "Ans: os.getcwd() method tells us the location of current working directory (CWD). Whereas os.chdir() method in Python used to change the current working directory to specified path. These functions are similar to linux commands pwd and cd"
   ]
  },
  {
   "cell_type": "code",
   "execution_count": 5,
   "id": "dff14e71",
   "metadata": {},
   "outputs": [
    {
     "name": "stdout",
     "output_type": "stream",
     "text": [
      "C:\\Users\\Abhishek Kumar\n"
     ]
    }
   ],
   "source": [
    "import os\n",
    "print(os.getcwd()) # Prints the current Working Directory"
   ]
  },
  {
   "cell_type": "code",
   "execution_count": 14,
   "id": "338b889c",
   "metadata": {},
   "outputs": [
    {
     "name": "stdout",
     "output_type": "stream",
     "text": [
      "C:\\Users\\Abhishek Kumar\\Downloads\n"
     ]
    }
   ],
   "source": [
    "path = r'C:\\Users\\Abhishek Kumar\\Downloads'\n",
    "os.chdir(path)      # path changed\n",
    "print(os.getcwd())"
   ]
  },
  {
   "cell_type": "markdown",
   "id": "a7590eee",
   "metadata": {},
   "source": [
    "# 4.What are . and .. folders ?"
   ]
  },
  {
   "cell_type": "markdown",
   "id": "bafb6bd9",
   "metadata": {},
   "source": [
    "Ans: . Represents the Current Directory Whereas .. Represents the Parent Directory of the Current Directory.\n",
    "    \n",
    "For Example: if the below path is my absolute path:\n",
    "        \n",
    "'C:\\\\\\Users\\\\\\Abhishek Kumar\\\\\\Downloads'\n",
    "\n",
    "Then . represents the path 'C:\\\\\\Users\\\\\\Abhishek Kumar\\\\\\Downloads'.\n",
    "\n",
    "Where as .. represents the path 'C:\\\\\\Users\\\\\\Abhishek Kumar'"
   ]
  },
  {
   "cell_type": "markdown",
   "id": "faaf8860",
   "metadata": {},
   "source": [
    "# 5.In C:\\bacon\\eggs\\spam.txt which part is the dir name and which part is the base name ?"
   ]
  },
  {
   "cell_type": "markdown",
   "id": "a73d759f",
   "metadata": {},
   "source": [
    "Ans:\n",
    "    C:\\bacon\\eggs --> dir name\n",
    "\n",
    "    spam.txt --> base name"
   ]
  },
  {
   "cell_type": "code",
   "execution_count": 19,
   "id": "01489423",
   "metadata": {},
   "outputs": [
    {
     "name": "stdout",
     "output_type": "stream",
     "text": [
      "dir name --> C:\\bacon\\eggs\n",
      "dir name --> spam.txt\n"
     ]
    }
   ],
   "source": [
    "import os\n",
    "path = r'C:\\bacon\\eggs\\spam.txt'\n",
    "print(\"dir name \" + \"--> \" + os.path.dirname(path))\n",
    "print(\"dir name \" + \"--> \" + os.path.basename(path))"
   ]
  },
  {
   "cell_type": "markdown",
   "id": "3658778e",
   "metadata": {},
   "source": [
    "# 6.What are the three mode arguments that can be passed to the open() function ?"
   ]
  },
  {
   "cell_type": "markdown",
   "id": "9cf26d91",
   "metadata": {},
   "source": [
    "Ans: A file can be Accessed in python using open() function. open function takes two arguments filename and mode of operation (optional). if mode is not provided the default mode of opening is read mode\n",
    "\n",
    "So, the syntax being: open(filename, mode)\n",
    "\n",
    "1. ‘r’ – Read Mode: This is the default mode for open(). The file is opened and a pointer is positioned at the beginning of the file’s content.\n",
    "    \n",
    "2. ‘w’ – Write Mode: Using this mode will overwrite any existing content in a file. If the given file does not exist, a new one will be created.\n",
    "\n",
    "3. ‘a’ – Append Mode: With this mode the user can append the data without overwriting any already existing data in the file.\n",
    "\n",
    "4. ‘r+’ – Read/Write Mode: Use this mode if you need to simultaneously read and write to a file.\n",
    "\n",
    "5. ‘a+’ – Append and Read Mode: In this mode you can read and append the data without overwriting the original file.\n",
    "\n",
    "6. ‘x’ – Exclusive Creating Mode: This mode is for the sole purpose of creating new files. Use this mode if you know the file to be written doesn’t exist beforehand."
   ]
  },
  {
   "cell_type": "markdown",
   "id": "9c549478",
   "metadata": {},
   "source": [
    "# 7.What happens if an existing file is opened in write mode ?"
   ]
  },
  {
   "cell_type": "markdown",
   "id": "d9e205a7",
   "metadata": {},
   "source": [
    "Ans: Using this mode will overwrite any existing content in a file. If the given file does not exist, a new one will be created."
   ]
  },
  {
   "cell_type": "markdown",
   "id": "345366a2",
   "metadata": {},
   "source": [
    "# 8.How do you tell the difference between read() and readlines() ?"
   ]
  },
  {
   "cell_type": "markdown",
   "id": "84c318ab",
   "metadata": {},
   "source": [
    "Ans:\n",
    "\n",
    "read() : Returns the specified number of bytes from the file. Default is -1 which means the whole file.\n",
    "\n",
    "readlines() : Return all lines in the file, as a list where each line is an item in the list object:"
   ]
  },
  {
   "cell_type": "markdown",
   "id": "59f2eaf3",
   "metadata": {},
   "source": [
    "# 9.What data structure does a shelf value resemble ?"
   ]
  },
  {
   "cell_type": "markdown",
   "id": "b7878dcb",
   "metadata": {},
   "source": [
    "Ans: As it contains key and values it represents dictionary."
   ]
  }
 ],
 "metadata": {
  "kernelspec": {
   "display_name": "Python 3 (ipykernel)",
   "language": "python",
   "name": "python3"
  },
  "language_info": {
   "codemirror_mode": {
    "name": "ipython",
    "version": 3
   },
   "file_extension": ".py",
   "mimetype": "text/x-python",
   "name": "python",
   "nbconvert_exporter": "python",
   "pygments_lexer": "ipython3",
   "version": "3.9.7"
  }
 },
 "nbformat": 4,
 "nbformat_minor": 5
}
