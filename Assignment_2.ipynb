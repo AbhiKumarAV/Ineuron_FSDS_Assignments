{
 "cells": [
  {
   "cell_type": "markdown",
   "id": "2cb064b8",
   "metadata": {},
   "source": [
    "# 1.What are the two values of the Boolean data type? How do you write them?"
   ]
  },
  {
   "cell_type": "markdown",
   "id": "88fd1c43",
   "metadata": {},
   "source": [
    "Ans: Two Boolean data types are:\n",
    "        1. True\n",
    "        2. False\n",
    "    \n",
    "        1. True == 1\n",
    "        2. False == 0\n",
    "        We have to use capital T and F and with the rest of the word in lowercase.\n",
    "        We can evaluate any expression in python and get one of the two answers: True or False"
   ]
  },
  {
   "cell_type": "code",
   "execution_count": 3,
   "id": "5a094d4c",
   "metadata": {},
   "outputs": [
    {
     "name": "stdout",
     "output_type": "stream",
     "text": [
      "False\n",
      "True\n"
     ]
    }
   ],
   "source": [
    "a=9\n",
    "b=5\n",
    "print(a==5)\n",
    "print(b==5)"
   ]
  },
  {
   "cell_type": "markdown",
   "id": "3f93457b",
   "metadata": {},
   "source": [
    "# 2. What are the three different types of Boolean operators?"
   ]
  },
  {
   "cell_type": "markdown",
   "id": "089d2a3f",
   "metadata": {},
   "source": [
    "Ans: The three differnt types of Boolean operators in python are: or , and , not"
   ]
  },
  {
   "cell_type": "code",
   "execution_count": 4,
   "id": "84f64f71",
   "metadata": {},
   "outputs": [
    {
     "name": "stdout",
     "output_type": "stream",
     "text": [
      "True\n",
      "True\n",
      "False\n"
     ]
    }
   ],
   "source": [
    "a=100\n",
    "b=200\n",
    "print(a>50 and b>100) # Example of boolean and\n",
    "print(a>200 or b>100) # Example of boolean or\n",
    "print(not(a>10)) # Example of boolean not"
   ]
  },
  {
   "cell_type": "markdown",
   "id": "38761cb4",
   "metadata": {},
   "source": [
    "# 3. Make a list of each Boolean operator's truth tables (i.e. every possible combination of Boolean values for the operator and what it evaluate) ?"
   ]
  },
  {
   "cell_type": "code",
   "execution_count": null,
   "id": "774a8500",
   "metadata": {},
   "outputs": [],
   "source": [
    "# and operator truth table:               \n",
    "    a   b   a and b\n",
    "    0   0     0\n",
    "    1   0     0\n",
    "    0   1     0\n",
    "    1   1     1\n",
    "\n",
    "\n",
    "# or operator truth table:\n",
    "    a   b   a or b\n",
    "    0   0     0\n",
    "    0   1     1\n",
    "    1   0     1\n",
    "    1   1     1\n",
    "\n",
    "\n",
    "# not operator truth table:\n",
    "    a   not a\n",
    "    1     0\n",
    "    0     1\n",
    "\n",
    "# where True=1 , False=0"
   ]
  },
  {
   "cell_type": "markdown",
   "id": "be1e24f3",
   "metadata": {},
   "source": [
    "# 4. What are the values of the following expressions ?"
   ]
  },
  {
   "cell_type": "markdown",
   "id": "5836a95b",
   "metadata": {},
   "source": [
    "(5 > 4) and (3 == 5)\n",
    "not (5 > 4)\n",
    "(5 > 4) or (3 == 5)\n",
    "not ((5 > 4) or (3 == 5))\n",
    "(True and True) and (True == False)\n",
    "(not False) or (not True)"
   ]
  },
  {
   "cell_type": "markdown",
   "id": "cc4093e8",
   "metadata": {},
   "source": [
    "Ans:\n",
    "    (5 > 4) and (3 == 5) = False\n",
    "    not (5 > 4) = False\n",
    "    (5 > 4) or (3 == 5) = True\n",
    "    not ((5 > 4) or (3 == 5)) = False\n",
    "    (True and True) and (True == False) = False\n",
    "    (not False) or (not True) = True\n"
   ]
  },
  {
   "cell_type": "code",
   "execution_count": 9,
   "id": "5c48b5b9",
   "metadata": {},
   "outputs": [
    {
     "name": "stdout",
     "output_type": "stream",
     "text": [
      "False\n",
      "False\n",
      "True\n",
      "False\n",
      "False\n",
      "True\n"
     ]
    }
   ],
   "source": [
    "print((5 > 4) and (3 == 5))\n",
    "print(not (5 > 4))\n",
    "print((5 > 4) or (3 == 5))\n",
    "print(not ((5 > 4) or (3 == 5)))\n",
    "print((True and True) and (True == False))\n",
    "print((not False) or (not True))\n"
   ]
  },
  {
   "cell_type": "markdown",
   "id": "f76620a7",
   "metadata": {},
   "source": [
    "# 5. What are the six comparison operators?"
   ]
  },
  {
   "cell_type": "markdown",
   "id": "35c34e09",
   "metadata": {},
   "source": [
    "Comparisor operators are as follows:\n",
    "    1. <  greater than\n",
    "    2. >  less than\n",
    "    3. <= less than equal to\n",
    "    4. >= greater than equal to\n",
    "    5. == equal to\n",
    "    6. != not equal to"
   ]
  },
  {
   "cell_type": "markdown",
   "id": "b211f1c8",
   "metadata": {},
   "source": [
    "# 6. How do you tell the difference between the equal to and assignment operators?Describe a condition and when you would use one ?"
   ]
  },
  {
   "cell_type": "markdown",
   "id": "ed905046",
   "metadata": {},
   "source": [
    "Ans: == is the equal to operator that compares two values and evaluates to a Boolean, while = is that assignment operator that stores a value in a variable"
   ]
  },
  {
   "cell_type": "code",
   "execution_count": 10,
   "id": "ae743820",
   "metadata": {},
   "outputs": [
    {
     "name": "stdout",
     "output_type": "stream",
     "text": [
      "True\n"
     ]
    }
   ],
   "source": [
    "a=3 # Assigning operator that stores 3 value in a variable a\n",
    "if a==3:#comparing values of a varible value and 3\n",
    "    print(a==3)"
   ]
  },
  {
   "cell_type": "markdown",
   "id": "276978a5",
   "metadata": {},
   "source": [
    "# 7. Identify the three blocks in this code:"
   ]
  },
  {
   "cell_type": "markdown",
   "id": "40468861",
   "metadata": {},
   "source": [
    "spam = 0\n",
    "if spam == 10:\n",
    "print('eggs')\n",
    "if spam > 5:\n",
    "print('bacon')\n",
    "else:\n",
    "print('ham')\n",
    "print('spam')\n",
    "print('spam')"
   ]
  },
  {
   "cell_type": "markdown",
   "id": "52c2c1fa",
   "metadata": {},
   "source": [
    "Ans: In Python, code block refers to a collection of code that is in the same block or indent. This is most commonly found in classes, functions, and loops."
   ]
  },
  {
   "cell_type": "code",
   "execution_count": 11,
   "id": "2a85d3fa",
   "metadata": {},
   "outputs": [
    {
     "name": "stdout",
     "output_type": "stream",
     "text": [
      "ham\n",
      "spam\n",
      "spam\n"
     ]
    }
   ],
   "source": [
    "spam = 0\n",
    "if spam == 10:\n",
    "    print('eggs')            # Block 1\n",
    "if spam > 5:\n",
    "    print('bacon')           # Block 2\n",
    "else:\n",
    "    print('ham')\n",
    "    print('spam')            # Block 3\n",
    "    print('spam')"
   ]
  },
  {
   "cell_type": "markdown",
   "id": "e0cf3180",
   "metadata": {},
   "source": [
    "# 8. Write code that prints Hello if 1 is stored in spam, prints Howdy if 2 is stored in spam, and prints Greetings! if anything else is stored in spam."
   ]
  },
  {
   "cell_type": "code",
   "execution_count": 16,
   "id": "0759b6d3",
   "metadata": {},
   "outputs": [
    {
     "name": "stdout",
     "output_type": "stream",
     "text": [
      "enter a number : 2.5\n",
      "Greetings\n"
     ]
    }
   ],
   "source": [
    "spam = eval(input(\"enter a number : \"))\n",
    "if spam==1:\n",
    "    print(\"Hello\")\n",
    "elif spam==2:\n",
    "    print(\"Howdy\")\n",
    "else:\n",
    "    print(\"Greetings\")"
   ]
  },
  {
   "cell_type": "markdown",
   "id": "4570d4b6",
   "metadata": {},
   "source": [
    "# 9.If your programme is stuck in an endless loop, what keys you’ll press?"
   ]
  },
  {
   "cell_type": "markdown",
   "id": "c1ea7db3",
   "metadata": {},
   "source": [
    "Ans: Press Ctrl-c to stop a program stuck in an infinite loop"
   ]
  },
  {
   "cell_type": "markdown",
   "id": "8a67e9b8",
   "metadata": {},
   "source": [
    "# 10. How can you tell the difference between break and continue?"
   ]
  },
  {
   "cell_type": "markdown",
   "id": "fd158db0",
   "metadata": {},
   "source": [
    "Ans: The break statement will move the execution outside the loop if break condtion is satisfied. Whereas the continue statement will move the execution to the start of the loop."
   ]
  },
  {
   "cell_type": "code",
   "execution_count": 20,
   "id": "fa75ed88",
   "metadata": {},
   "outputs": [
    {
     "name": "stdout",
     "output_type": "stream",
     "text": [
      "0\n",
      "1\n"
     ]
    }
   ],
   "source": [
    "#example of break:\n",
    "for i in range(5):\n",
    "    if i==2:\n",
    "        break\n",
    "    print(i)"
   ]
  },
  {
   "cell_type": "code",
   "execution_count": 19,
   "id": "85b59f0f",
   "metadata": {},
   "outputs": [
    {
     "name": "stdout",
     "output_type": "stream",
     "text": [
      "0\n",
      "1\n",
      "3\n",
      "4\n"
     ]
    }
   ],
   "source": [
    "#example of continue\n",
    "for i in range(5):\n",
    "    if i==2:\n",
    "        continue\n",
    "    print(i)"
   ]
  },
  {
   "cell_type": "markdown",
   "id": "24c1a4c1",
   "metadata": {},
   "source": [
    "# 11. In a for loop, what is the difference between range(10), range(0, 10), and range(0, 10, 1)?"
   ]
  },
  {
   "cell_type": "markdown",
   "id": "a7be9059",
   "metadata": {},
   "source": [
    "1. The range(10) call range from 0 to 9 (but not include 10)\n",
    "\n",
    "2. The range (0,10) explicitly tells the loop to start at 0\n",
    "\n",
    "3. The range(0,10,1) explicitly tells the loop to increase the variable by 1 on each iteration"
   ]
  },
  {
   "cell_type": "markdown",
   "id": "6373c527",
   "metadata": {},
   "source": [
    "# 12. Write a short program that prints the numbers 1 to 10 using a for loop. Then write an equivalent program that prints the numbers 1 to 10 using a while loop ?"
   ]
  },
  {
   "cell_type": "code",
   "execution_count": 45,
   "id": "722132a2",
   "metadata": {},
   "outputs": [
    {
     "name": "stdout",
     "output_type": "stream",
     "text": [
      "---------- using for loop ----------\n",
      "1 2 3 4 5 6 7 8 9 10 \n",
      "\n",
      "---------- using while loop ----------\n",
      "1 2 3 4 5 6 7 8 9 10 "
     ]
    }
   ],
   "source": [
    "# for loop\n",
    "\n",
    "print('-'*10,'using for loop','-'*10)\n",
    "for i in range(1,11):\n",
    "    print(i, end=\" \")\n",
    "print(\"\\n\")\n",
    "\n",
    "# while loop\n",
    "\n",
    "print('-'*10,'using while loop','-'*10)\n",
    "i=1\n",
    "while i<=10:\n",
    "    print(i,end=\" \")\n",
    "    i+=1"
   ]
  },
  {
   "cell_type": "markdown",
   "id": "836d1956",
   "metadata": {},
   "source": [
    "# 13. If you had a function named bacon() inside a module named spam, how would you call it after importing spam ?\n",
    "        "
   ]
  },
  {
   "cell_type": "markdown",
   "id": "86b68861",
   "metadata": {},
   "source": [
    "Ans: spam.bacon()"
   ]
  }
 ],
 "metadata": {
  "kernelspec": {
   "display_name": "Python 3 (ipykernel)",
   "language": "python",
   "name": "python3"
  },
  "language_info": {
   "codemirror_mode": {
    "name": "ipython",
    "version": 3
   },
   "file_extension": ".py",
   "mimetype": "text/x-python",
   "name": "python",
   "nbconvert_exporter": "python",
   "pygments_lexer": "ipython3",
   "version": "3.9.7"
  }
 },
 "nbformat": 4,
 "nbformat_minor": 5
}
