{
 "cells": [
  {
   "cell_type": "markdown",
   "id": "eedccb2f",
   "metadata": {},
   "source": [
    "# 1.Write a Python Program to find sum of elements in a list ?\n"
   ]
  },
  {
   "cell_type": "code",
   "execution_count": 3,
   "id": "c04de0b6",
   "metadata": {},
   "outputs": [
    {
     "name": "stdout",
     "output_type": "stream",
     "text": [
      "Enter the No of Entries in a List: 4\n",
      "Enter a element: 5\n",
      "Enter a element: 33\n",
      "Enter a element: 55\n",
      "Enter a element: 6\n",
      "Sum of Elements: 99\n"
     ]
    }
   ],
   "source": [
    "\n",
    "def sumofList():\n",
    "    in_ele = int(input('Enter the No of Entries in a List: '))\n",
    "    in_list = []\n",
    "    for itr in range(in_ele):\n",
    "        in_list.append(int(input('Enter a element: ')))\n",
    "    print(f'Sum of Elements: {sum(in_list)}')\n",
    "\n",
    "sumofList()"
   ]
  },
  {
   "cell_type": "markdown",
   "id": "44e2f6f8",
   "metadata": {},
   "source": [
    "# 2.Write a Python Program to multiply all numbers in the list ?"
   ]
  },
  {
   "cell_type": "code",
   "execution_count": 4,
   "id": "1f0d5b11",
   "metadata": {},
   "outputs": [
    {
     "name": "stdout",
     "output_type": "stream",
     "text": [
      "Enter the No of Entries in a List: 4\n",
      "Enter a element: 5\n",
      "Enter a element: 6\n",
      "Enter a element: 55\n",
      "Enter a element: 99\n",
      "163350\n"
     ]
    }
   ],
   "source": [
    "\n",
    "def mulofList():\n",
    "    in_ele = int(input('Enter the No of Entries in a List: '))\n",
    "    in_list = []\n",
    "    mul = 1\n",
    "    for itr in range(in_ele):\n",
    "        in_list.append(int(input('Enter a element: ')))\n",
    "    for ele in in_list:\n",
    "        mul = mul * ele\n",
    "    print(mul)\n",
    "\n",
    "mulofList()"
   ]
  },
  {
   "cell_type": "markdown",
   "id": "e57aad47",
   "metadata": {},
   "source": [
    "# 3.Write a Python Program to find smallest number in the list ?"
   ]
  },
  {
   "cell_type": "code",
   "execution_count": 5,
   "id": "270404c8",
   "metadata": {},
   "outputs": [
    {
     "name": "stdout",
     "output_type": "stream",
     "text": [
      "Enter the No of elements in a list: 4\n",
      "Enter a Element: 55\n",
      "Enter a Element: 66\n",
      "Enter a Element: 64\n",
      "Enter a Element: 89\n",
      "The Smallest Element in [55, 66, 64, 89] is 55\n"
     ]
    }
   ],
   "source": [
    "\n",
    "def smallEleInList():\n",
    "    in_ele = int(input('Enter the No of elements in a list: '))\n",
    "    in_list = []\n",
    "    for ele in range(in_ele):\n",
    "        in_list.append(int(input('Enter a Element: ')))\n",
    "    print(f'The Smallest Element in {in_list} is {sorted(in_list)[0]}')\n",
    "smallEleInList()"
   ]
  },
  {
   "cell_type": "markdown",
   "id": "b7c126cc",
   "metadata": {},
   "source": [
    "# 4.Write a Python Program to find largest number in the list ?"
   ]
  },
  {
   "cell_type": "code",
   "execution_count": 6,
   "id": "c8f0a8d4",
   "metadata": {},
   "outputs": [
    {
     "name": "stdout",
     "output_type": "stream",
     "text": [
      "Enter the No of elements in a list: 4\n",
      "Enter a Element: 58\n",
      "Enter a Element: 99\n",
      "Enter a Element: 94\n",
      "Enter a Element: 56\n",
      "The Largest Element in [58, 99, 94, 56] is 99\n"
     ]
    }
   ],
   "source": [
    "\n",
    "def largestEleInList():\n",
    "    in_ele = int(input('Enter the No of elements in a list: '))\n",
    "    in_list = []\n",
    "    for ele in range(in_ele):\n",
    "        in_list.append(int(input('Enter a Element: ')))\n",
    "    print(f'The Largest Element in {in_list} is {sorted(in_list, reverse=True)[0]}')\n",
    "\n",
    "largestEleInList()"
   ]
  },
  {
   "cell_type": "markdown",
   "id": "dbb30d33",
   "metadata": {},
   "source": [
    "# 5.Write a Python Program to find second largest number in the list ?"
   ]
  },
  {
   "cell_type": "code",
   "execution_count": 8,
   "id": "895ac0b7",
   "metadata": {},
   "outputs": [
    {
     "name": "stdout",
     "output_type": "stream",
     "text": [
      "Enter the No of elements in a list: 4\n",
      "Enter a Element: 56\n",
      "Enter a Element: 65\n",
      "Enter a Element: 54\n",
      "Enter a Element: 64\n",
      "The Second Largest Element in [56, 65, 54, 64] is 64\n"
     ]
    }
   ],
   "source": [
    "\n",
    "def secondLargestEleInList():\n",
    "    in_ele = int(input('Enter the No of elements in a list: '))\n",
    "    in_list = []\n",
    "    for ele in range(in_ele):\n",
    "        in_list.append(int(input('Enter a Element: ')))\n",
    "    print(f'The Second Largest Element in {in_list} is {sorted(in_list, reverse=True)[1]}')\n",
    "\n",
    "secondLargestEleInList()"
   ]
  },
  {
   "cell_type": "markdown",
   "id": "91bc9292",
   "metadata": {},
   "source": [
    "# 6.Write a Python Program to find N largest elements in the list ?"
   ]
  },
  {
   "cell_type": "code",
   "execution_count": 9,
   "id": "81f1a1be",
   "metadata": {},
   "outputs": [
    {
     "name": "stdout",
     "output_type": "stream",
     "text": [
      "Enter the No of elements in a list: 4\n",
      "Enter a Element: 5\n",
      "Enter a Element: 6\n",
      "Enter a Element: 7\n",
      "Enter a Element: 8\n",
      "The 4 Largest Element in [5, 6, 7, 8] is [8, 7, 6, 5]\n"
     ]
    }
   ],
   "source": [
    "\n",
    "def nLargestEleInList(k):\n",
    "    in_ele = int(input('Enter the No of elements in a list: '))\n",
    "    in_list = []\n",
    "    for ele in range(in_ele):\n",
    "        in_list.append(int(input('Enter a Element: ')))\n",
    "    print(f'The {k} Largest Element in {in_list} is {sorted(in_list, reverse=True)[0:k]}')\n",
    "\n",
    "nLargestEleInList(4)"
   ]
  },
  {
   "cell_type": "markdown",
   "id": "502a0b55",
   "metadata": {},
   "source": [
    "# 7.Write a Python Program to find even numbers in the list ?"
   ]
  },
  {
   "cell_type": "code",
   "execution_count": 11,
   "id": "4dd34ff3",
   "metadata": {},
   "outputs": [
    {
     "name": "stdout",
     "output_type": "stream",
     "text": [
      "Enter the No of elements in a list: 4\n",
      "Enter a Element: 65\n",
      "Enter a Element: 69\n",
      "Enter a Element: 87\n",
      "Enter a Element: 63\n",
      "The Even Elements in [65, 69, 87, 63] are []\n"
     ]
    }
   ],
   "source": [
    "\n",
    "def evenNoInList():\n",
    "    in_ele = int(input('Enter the No of elements in a list: '))\n",
    "    in_list = []\n",
    "    even_list = []\n",
    "    for ele in range(in_ele):\n",
    "        in_list.append(int(input('Enter a Element: ')))\n",
    "    for ele in in_list:\n",
    "        if ele%2 == 0:\n",
    "            even_list.append(ele)\n",
    "    print(f'The Even Elements in {in_list} are {even_list}')\n",
    "\n",
    "evenNoInList()"
   ]
  },
  {
   "cell_type": "markdown",
   "id": "e990b350",
   "metadata": {},
   "source": [
    "# 8.Write a Python Program to find odd numbers in the list ?"
   ]
  },
  {
   "cell_type": "code",
   "execution_count": 12,
   "id": "aeb55c6d",
   "metadata": {},
   "outputs": [
    {
     "name": "stdout",
     "output_type": "stream",
     "text": [
      "Enter the No of elements in a list: 4\n",
      "Enter a Element: 78\n",
      "Enter a Element: 88\n",
      "Enter a Element: 64\n",
      "Enter a Element: 12\n",
      "The Even Elements in [78, 88, 64, 12] are []\n"
     ]
    }
   ],
   "source": [
    "\n",
    "def oddNoInList():\n",
    "    in_ele = int(input('Enter the No of elements in a list: '))\n",
    "    in_list = []\n",
    "    odd_list = []\n",
    "    for ele in range(in_ele):\n",
    "        in_list.append(int(input('Enter a Element: ')))\n",
    "    for ele in in_list:\n",
    "        if ele%2 != 0:\n",
    "            odd_list.append(ele)\n",
    "    print(f'The Even Elements in {in_list} are {odd_list}')\n",
    "\n",
    "oddNoInList()"
   ]
  },
  {
   "cell_type": "markdown",
   "id": "620bc0ae",
   "metadata": {},
   "source": [
    "# 9.Write a Python Program to remove empty list from list ?"
   ]
  },
  {
   "cell_type": "code",
   "execution_count": 15,
   "id": "4d185a95",
   "metadata": {},
   "outputs": [
    {
     "name": "stdout",
     "output_type": "stream",
     "text": [
      "Enter all elements of the list: [7,8,55,66,[],56]\n",
      "There is an Empty list in [7, 8, 55, 66, [], 56] at Position 4\n",
      "The List after removing [] is [7, 8, 55, 66, 56]\n"
     ]
    }
   ],
   "source": [
    "\n",
    "def checkEmptyList():\n",
    "    in_list = eval(input('Enter all elements of the list: '))\n",
    "    if [] in in_list:\n",
    "        print(f'There is an Empty list in {in_list} at Position {in_list.index([])}')\n",
    "        in_list.remove([])\n",
    "        print(f'The List after removing [] is {in_list}')\n",
    "    else:\n",
    "        print(f'There is no [] List in the list {in_list}')\n",
    "        \n",
    "checkEmptyList()"
   ]
  },
  {
   "cell_type": "markdown",
   "id": "6b349329",
   "metadata": {},
   "source": [
    "# 10.Write a Python Program to Cloning or Copying a list ?"
   ]
  },
  {
   "cell_type": "code",
   "execution_count": 16,
   "id": "b9f685cf",
   "metadata": {},
   "outputs": [
    {
     "name": "stdout",
     "output_type": "stream",
     "text": [
      "Enter a list[7,5,4,9,65]\n",
      "[7, 5, 4, 9, 65] 2478660596608\n",
      "[7, 5, 4, 9, 65] 2478660578880\n"
     ]
    }
   ],
   "source": [
    "\n",
    "import copy\n",
    "\n",
    "def cloneList():\n",
    "    in_list = eval(input('Enter a list'))\n",
    "    print(in_list, id(in_list))\n",
    "    cloned_list = in_list.copy()\n",
    "    print(cloned_list, id(cloned_list))\n",
    "\n",
    "cloneList()"
   ]
  },
  {
   "cell_type": "markdown",
   "id": "5f087886",
   "metadata": {},
   "source": [
    "# 11.Write a Python Program to count occurences of an element in a list ?"
   ]
  },
  {
   "cell_type": "code",
   "execution_count": 17,
   "id": "6e3aa8f2",
   "metadata": {},
   "outputs": [
    {
     "name": "stdout",
     "output_type": "stream",
     "text": [
      "Enter the elements of the list: [1,5,6,7,8]\n",
      "Enter the element to find: 6\n",
      "There are 1 occurences of 6 in [1, 5, 6, 7, 8]\n"
     ]
    }
   ],
   "source": [
    "def checkOccurence():\n",
    "    in_list = eval(input('Enter the elements of the list: '))\n",
    "    in_num = eval(input('Enter the element to find: '))\n",
    "    count = 0\n",
    "    if in_num in in_list:\n",
    "        for ele in in_list:\n",
    "            if ele == in_num:\n",
    "                count = count+1\n",
    "    print(f'There are {count} occurences of {in_num} in {in_list}')\n",
    "    \n",
    "checkOccurence()"
   ]
  }
 ],
 "metadata": {
  "kernelspec": {
   "display_name": "Python 3 (ipykernel)",
   "language": "python",
   "name": "python3"
  },
  "language_info": {
   "codemirror_mode": {
    "name": "ipython",
    "version": 3
   },
   "file_extension": ".py",
   "mimetype": "text/x-python",
   "name": "python",
   "nbconvert_exporter": "python",
   "pygments_lexer": "ipython3",
   "version": "3.9.7"
  }
 },
 "nbformat": 4,
 "nbformat_minor": 5
}
